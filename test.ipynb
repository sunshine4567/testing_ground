{
  "nbformat": 4,
  "nbformat_minor": 0,
  "metadata": {
    "colab": {
      "provenance": [],
      "authorship_tag": "ABX9TyPIH9osGI7RJpDZQgNvbNRv",
      "include_colab_link": true
    },
    "kernelspec": {
      "name": "python3",
      "display_name": "Python 3"
    },
    "language_info": {
      "name": "python"
    }
  },
  "cells": [
    {
      "cell_type": "markdown",
      "metadata": {
        "id": "view-in-github",
        "colab_type": "text"
      },
      "source": [
        "<a href=\"https://colab.research.google.com/github/sunshine4567/testing_ground/blob/main/test.ipynb\" target=\"_parent\"><img src=\"https://colab.research.google.com/assets/colab-badge.svg\" alt=\"Open In Colab\"/></a>"
      ]
    },
    {
      "cell_type": "code",
      "execution_count": null,
      "metadata": {
        "colab": {
          "base_uri": "https://localhost:8080/"
        },
        "id": "Oty2QP8LEd7o",
        "outputId": "ff41c3e6-3a2a-4144-d567-7da514f81199"
      },
      "outputs": [
        {
          "output_type": "stream",
          "name": "stdout",
          "text": [
            "Hello Wrold\n"
          ]
        }
      ],
      "source": [
        "print('Hello Wrold')"
      ]
    },
    {
      "cell_type": "code",
      "source": [
        "print('Second Hello')"
      ],
      "metadata": {
        "id": "jF9WDzADHHaX",
        "outputId": "887f190e-2975-410b-c8ea-e94c47743dfc",
        "colab": {
          "base_uri": "https://localhost:8080/"
        }
      },
      "execution_count": 1,
      "outputs": [
        {
          "output_type": "stream",
          "name": "stdout",
          "text": [
            "Second Hello\n"
          ]
        }
      ]
    }
  ]
}